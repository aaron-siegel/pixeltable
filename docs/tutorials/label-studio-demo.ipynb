{
 "cells": [
  {
   "cell_type": "markdown",
   "id": "07f4c93e-e2c4-4e0e-a4c6-afc5391dad40",
   "metadata": {},
   "source": [
    "# Pixeltable / Label Studio Integration Demo\n",
    "\n",
    "This tutorial demonstrates how to integrate Pixeltable with Label Studio, in order to provide seamless management of annotations data across the annotation workflow.\n",
    "\n",
    "We'll assume that you're at least somewhat familiar with Pixeltable and have read the [Pixeltable Basics](https://pixeltable.github.io/pixeltable/tutorials/image-operations/) tutorial. You'll also need to have a Label Studio instance installed and running locally (or at some accessible URL).\n",
    "\n",
    "This tutorial is more complex than the other Pixeltable tutorials, because it requires a running Label Studio instance to integrate with. It's best to run it in a local Pixeltable installation, rather than a Colab or Kaggle notebook.\n",
    "\n",
    "## Configure Pixeltable\n",
    "\n",
    "First we configure Pixeltable to communicate with Label Studio. You'll need to know the URL of your Label Studio installation (for a local install, it's usually http://localhost:8080/) and your API key (the \"Access Token\" under Account & Settings).\n",
    "\n",
    "Then do one of two things. Either add the following lines to your `~/.pixeltable/config.yaml` file:\n",
    "```\n",
    "label_studio:\n",
    "  url: my-label-studio-url\n",
    "  api_key: my-label-studio-api-key\n",
    "```\n",
    "Or run the following command, substituting your URL and API key as appropriate."
   ]
  },
  {
   "cell_type": "code",
   "execution_count": null,
   "id": "d8d5660c-7986-4558-bbb7-8eca1ae7590f",
   "metadata": {},
   "outputs": [],
   "source": [
    "import os\n",
    "os.environ['LABEL_STUDIO_URL'] = 'my-label-studio-url'\n",
    "os.environ['LABEL_STUDIO_API_KEY'] = 'my-label-studio-api-key'"
   ]
  },
  {
   "cell_type": "markdown",
   "id": "5694554a-8a81-4dd8-b351-a89260ef3bf9",
   "metadata": {},
   "source": [
    "## Create the Base Table to Store Videos\n",
    "\n",
    "Now we create the master table that will hold our videos to be annotated. This only needs to be done once, when we initially set up the workflow."
   ]
  },
  {
   "cell_type": "code",
   "execution_count": null,
   "id": "876c5342-d166-4cf1-92a8-8130308697e3",
   "metadata": {},
   "outputs": [],
   "source": [
    "import pixeltable as pxt\n",
    "\n",
    "cl = pxt.Client()\n",
    "cl.create_dir('ls_demo', ignore_errors=True)\n",
    "schema = {\n",
    "    'video': pxt.VideoType(),\n",
    "    'date': pxt.TimestampType()\n",
    "}\n",
    "videos_table = cl.create_table('ls_demo.videos', schema)"
   ]
  },
  {
   "cell_type": "markdown",
   "id": "4d25fe62-b59c-4602-a0ce-46170f378150",
   "metadata": {},
   "source": [
    "## Populate It with Data"
   ]
  },
  {
   "cell_type": "markdown",
   "id": "4e8357ad-345d-4273-a3ec-8711f0b48245",
   "metadata": {},
   "source": [
    "Now let's add some videos to the table to populate it. We'll add some local videos as well as a few that are scraped from the Internet. Notice that you can refer to input videos either by a local filename or a URL."
   ]
  },
  {
   "cell_type": "code",
   "execution_count": null,
   "id": "29bea73f-c455-4e8f-aed7-ee34faa421c3",
   "metadata": {},
   "outputs": [],
   "source": [
    "from datetime import date\n",
    "import glob\n",
    "\n",
    "files = glob.glob('/Users/asiegel/Dropbox/workspace/pixeltable/local/sample-data/*.mp4')\n",
    "files.append('s3://multimedia-commons/data/videos/mp4/ffe/ff3/ffeff3c6bf57504e7a6cecaff6aefbc9.mp4')\n",
    "today = date(2022, 4, 22)\n",
    "videos_table.insert({'video': file, 'date': today} for file in files)"
   ]
  },
  {
   "cell_type": "markdown",
   "id": "4727dd4b-5b21-4ff9-a6a8-4c0e53641841",
   "metadata": {},
   "source": [
    "Let's have a look at the table now."
   ]
  },
  {
   "cell_type": "code",
   "execution_count": null,
   "id": "c984cf21-0e24-4844-bafd-9772ceaeffc7",
   "metadata": {},
   "outputs": [],
   "source": [
    "videos_table.show()"
   ]
  },
  {
   "cell_type": "markdown",
   "id": "f114e857-e749-4dc9-977d-8bb676b3c660",
   "metadata": {},
   "source": [
    "## Create a Label Studio project\n",
    "\n",
    "Next we'll create a new Label Studio project and link it to a new view on the Pixeltable table. You can link a Label Studio project to either a base table or a view. For tables that are expecting a lot of input data, it's often easier to link to views."
   ]
  },
  {
   "cell_type": "code",
   "execution_count": null,
   "id": "65857a69-582a-43ca-b370-caa2799f3df1",
   "metadata": {},
   "outputs": [],
   "source": [
    "from pixeltable.datatransfer.label_studio import LabelStudioProject\n",
    "\n",
    "# Create a view to filter on the specified date\n",
    "\n",
    "videos_2024_04_22 = cl.create_view(\n",
    "    'ls_demo.videos_2024_04_22',\n",
    "    videos_table #,\n",
    "    # filter=(videos_table.date == today)\n",
    ")\n",
    "\n",
    "# Add a column to the view to receive the annotations. The column\n",
    "# that receives the annotations must always have the type\n",
    "# `pxt.JsonType(nullable=True)`.\n",
    "\n",
    "videos_2024_04_22.add_column(annotations=pxt.JsonType(nullable=True))\n",
    "\n",
    "# Create a new Label Studio project that we will link to the view.\n",
    "# We use the pixeltable `LabelStudioProject.create` method for this,\n",
    "# which both creates the project in Label Studio and initializes a\n",
    "# Pixeltable reference to it.\n",
    "\n",
    "ls_project = LabelStudioProject.create(\n",
    "    title='ls_demo.videos_2024_04_22',\n",
    "    label_config='''\n",
    "    <View> \n",
    "      <Video name=\"video\" value=\"$video\"/>\n",
    "      <Text name=\"\" value=\"License plate number\" />\n",
    "      <TextArea name=\"lpn\" toName=\"video\" placeholder=\"\"/>\n",
    "      <Text name=\"turn-label\" value=\"Turn Type\" />\n",
    "      <Choices name=\"turn-type\" toName=\"video\" showInLine=\"true\"> \n",
    "        <Choice value=\"left_turn\"/> \n",
    "        <Choice value=\"right_turn\"/>\n",
    "        <Choice value=\"straight\"/>\n",
    "        <Choice value=\"unsure\"/> \n",
    "      </Choices>\n",
    "    </View>\n",
    "    '''\n",
    ")\n",
    "\n",
    "# Now link the view and the project. This only needs to be done once:\n",
    "# after the view and project are linked, the relationship is stored\n",
    "# indefinitely in Pixeltable's metadata.\n",
    "\n",
    "videos_2024_04_22.link_remote(ls_project)"
   ]
  },
  {
   "cell_type": "markdown",
   "id": "a64d0394-ab86-427c-8b7e-5a71f9ece6bc",
   "metadata": {},
   "source": [
    "If you look in the Label Studio UI now, you'll see that there's a new project with the name `ls_demo.videos_2022_04_22`. There are no tasks in it: all we've done is to specify a link between the Pixeltable view and Label Studio project; we haven't actually synchronized the data between them yet.\n",
    "\n",
    "## Push Videos from the View to the Label Studio Project\n",
    "\n",
    "Now let's actually push our videos from the view to the Label Studio project. Once the link has been established, all we need to do is call the handy `sync_remotes()` command on the view."
   ]
  },
  {
   "cell_type": "code",
   "execution_count": null,
   "id": "b0217e2a-aa19-45ae-b691-9c97b452b970",
   "metadata": {},
   "outputs": [],
   "source": [
    "videos_2024_04_22.sync_remotes()"
   ]
  },
  {
   "cell_type": "markdown",
   "id": "7e0c8204-f382-4102-939f-c61435e21877",
   "metadata": {},
   "source": [
    "Pixeltable remembers which videos have been synced, so if we call `sync_remotes()` again, it will only create new tasks for videos that have been added to the table since the last sync."
   ]
  },
  {
   "cell_type": "code",
   "execution_count": null,
   "id": "2b1ed7da-256c-4535-bea2-8c5c607749ba",
   "metadata": {},
   "outputs": [],
   "source": [
    "videos_2024_04_22.sync_remotes()"
   ]
  },
  {
   "cell_type": "markdown",
   "id": "0956c5e8-d48a-4e4a-b594-6c07e4664083",
   "metadata": {},
   "source": [
    "## Some Time Later, Pull the Annotations"
   ]
  },
  {
   "cell_type": "markdown",
   "id": "a0f2a373-f1b2-4bdc-941a-41ca85dec038",
   "metadata": {},
   "source": [
    "Now let's try pulling some annotations from Label Studio back to our view. As always, Pixeltable retains all its data and state in persistent storage, so we can safely clear the variables in our Jupyter notebook or restart the kernel, then pick up seamlessly where we left off.\n",
    "\n",
    "At this point, try creating annotations for one of the videos using the Label Studio UI. Then come back to the notebook, restart your Jupyter kernel, and enter the following command."
   ]
  },
  {
   "cell_type": "code",
   "execution_count": null,
   "id": "8aa21d6a-c3f8-4a80-921d-0e7df22e3a40",
   "metadata": {},
   "outputs": [],
   "source": [
    "%reset -f\n",
    "import pixeltable as pxt\n",
    "\n",
    "cl = pxt.Client()\n",
    "videos_2024_04_22 = cl.get_table('ls_demo.videos_2024_04_22')\n",
    "videos_2024_04_22.sync_remotes()"
   ]
  },
  {
   "cell_type": "markdown",
   "id": "013633e5-1802-47b9-b84f-81c3b3e4ac81",
   "metadata": {},
   "source": [
    "Let's see what effect that had."
   ]
  },
  {
   "cell_type": "code",
   "execution_count": null,
   "id": "006268eb-6f96-40f8-b1e2-f96eb7aeee9c",
   "metadata": {},
   "outputs": [],
   "source": [
    "videos_2024_04_22.select(videos_2024_04_22.video, videos_2024_04_22.annotations).show()"
   ]
  },
  {
   "cell_type": "markdown",
   "id": "955e0485-f026-4a2c-97fc-07f61d979da7",
   "metadata": {},
   "source": [
    "## Add a Computed Column"
   ]
  },
  {
   "cell_type": "code",
   "execution_count": null,
   "id": "432a983e-f3eb-44bd-a4c9-fab556c3a754",
   "metadata": {},
   "outputs": [],
   "source": [
    "videos_2024_04_22.add_column(turn_type=videos_2024_04_22.annotations[0].result[0].value.choices[0])"
   ]
  },
  {
   "cell_type": "code",
   "execution_count": null,
   "id": "0e4b87bd-7cdb-4a5e-b6d6-eb7477c740cf",
   "metadata": {},
   "outputs": [],
   "source": [
    "videos_2024_04_22.select(videos_2024_04_22.video, videos_2024_04_22.annotations, videos_2024_04_22.turn_type).show()"
   ]
  },
  {
   "cell_type": "markdown",
   "id": "3c8c5394-2539-4160-84df-68cb8df72de9",
   "metadata": {},
   "source": [
    "## Frame Annotations"
   ]
  },
  {
   "cell_type": "code",
   "execution_count": null,
   "id": "64ad60b8-fca5-419d-81bb-8c9e640b0037",
   "metadata": {},
   "outputs": [],
   "source": [
    "# from pixeltable.iterators import FrameIterator\n",
    "\n",
    "# frames = cl.create_view(\n",
    "#     'ls_demo.frames_2024_04_22',\n",
    "#     t,\n",
    "#     iterator_class=FrameIterator,\n",
    "#     iterator_args={'video': t.video, 'fps': 0.25}\n",
    "# )\n",
    "# Create a new Label Studio project and link it to the Table.\n",
    "\n"
   ]
  },
  {
   "cell_type": "code",
   "execution_count": null,
   "id": "f923f511-7624-4537-9eaf-21a8337696fc",
   "metadata": {
    "scrolled": true
   },
   "outputs": [],
   "source": [
    "frames.select(frames.frame).show()"
   ]
  },
  {
   "cell_type": "code",
   "execution_count": null,
   "id": "72b0de58-54f4-412c-bd0a-4964d0bab6ce",
   "metadata": {},
   "outputs": [],
   "source": [
    "from pixeltable.datatransfer.label_studio import LabelStudioProject\n",
    "\n",
    "remote = LabelStudioProject.create(\n",
    "    'frames_2024_04_22',\n",
    "    '''\n",
    "    <View>\n",
    "      <Image name=\"frame\" value=\"$frame\"/>\n",
    "    </View>\n",
    "    '''\n",
    ")\n"
   ]
  }
 ],
 "metadata": {
  "kernelspec": {
   "display_name": "Python 3 (ipykernel)",
   "language": "python",
   "name": "python3"
  },
  "language_info": {
   "codemirror_mode": {
    "name": "ipython",
    "version": 3
   },
   "file_extension": ".py",
   "mimetype": "text/x-python",
   "name": "python",
   "nbconvert_exporter": "python",
   "pygments_lexer": "ipython3",
   "version": "3.9.19"
  }
 },
 "nbformat": 4,
 "nbformat_minor": 5
}
